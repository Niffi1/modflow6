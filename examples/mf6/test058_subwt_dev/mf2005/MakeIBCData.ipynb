{
 "cells": [
  {
   "cell_type": "code",
   "execution_count": 1,
   "metadata": {
    "collapsed": true
   },
   "outputs": [],
   "source": [
    "import os\n",
    "import numpy as np\n",
    "import flopy"
   ]
  },
  {
   "cell_type": "code",
   "execution_count": 2,
   "metadata": {
    "collapsed": false
   },
   "outputs": [],
   "source": [
    "m = flopy.modflow.Modflow.load('subwt_mf2005.nam')"
   ]
  },
  {
   "cell_type": "code",
   "execution_count": 3,
   "metadata": {
    "collapsed": true
   },
   "outputs": [],
   "source": [
    "swt = m.get_package('SWT')"
   ]
  },
  {
   "cell_type": "code",
   "execution_count": 4,
   "metadata": {
    "collapsed": false
   },
   "outputs": [],
   "source": [
    "ib = m.bas6.ibound.array\n",
    "cc = swt.cc.array\n",
    "cr = swt.cr.array\n",
    "thick = swt.thick.array\n",
    "void = swt.void.array\n",
    "pcsoff = swt.pcsoff.array"
   ]
  },
  {
   "cell_type": "code",
   "execution_count": 5,
   "metadata": {
    "collapsed": false
   },
   "outputs": [
    {
     "name": "stdout",
     "output_type": "stream",
     "text": [
      "4 20 15\n"
     ]
    }
   ],
   "source": [
    "nlay, nrow, ncol = m.dis.nlay, m.dis.nrow, m.dis.ncol\n",
    "print(nlay, nrow, ncol)"
   ]
  },
  {
   "cell_type": "code",
   "execution_count": 6,
   "metadata": {
    "collapsed": false
   },
   "outputs": [
    {
     "name": "stdout",
     "output_type": "stream",
     "text": [
      "[[[ 100.  100.  100. ...,  100.  100.  100.]\n",
      "  [ 100.  100.  100. ...,  100.  100.  100.]\n",
      "  [ 100.  100.  100. ...,  100.  100.  100.]\n",
      "  ..., \n",
      "  [ 100.  100.  100. ...,  100.  100.  100.]\n",
      "  [ 100.  100.  100. ...,  100.  100.  100.]\n",
      "  [ 100.  100.  100. ...,  100.  100.  100.]]\n",
      "\n",
      " [[ 150.  150.  150. ...,  150.  150.  150.]\n",
      "  [ 150.  150.  150. ...,  150.  150.  150.]\n",
      "  [ 150.  150.  150. ...,  150.  150.  150.]\n",
      "  ..., \n",
      "  [ 150.  150.  150. ...,  150.  150.  150.]\n",
      "  [ 150.  150.  150. ...,  150.  150.  150.]\n",
      "  [ 150.  150.  150. ...,  150.  150.  150.]]\n",
      "\n",
      " [[  50.   50.   50. ...,   50.   50.   50.]\n",
      "  [  50.   50.   50. ...,   50.   50.   50.]\n",
      "  [  50.   50.   50. ...,   50.   50.   50.]\n",
      "  ..., \n",
      "  [  50.   50.   50. ...,   50.   50.   50.]\n",
      "  [  50.   50.   50. ...,   50.   50.   50.]\n",
      "  [  50.   50.   50. ...,   50.   50.   50.]]\n",
      "\n",
      " [[ 200.  200.  200. ...,  200.  200.  200.]\n",
      "  [ 200.  200.  200. ...,  200.  200.  200.]\n",
      "  [ 200.  200.  200. ...,  200.  200.  200.]\n",
      "  ..., \n",
      "  [ 200.  200.  200. ...,  200.  200.  200.]\n",
      "  [ 200.  200.  200. ...,  200.  200.  200.]\n",
      "  [ 200.  200.  200. ...,  200.  200.  200.]]]\n"
     ]
    }
   ],
   "source": [
    "aqthick = m.dis.thickness.array\n",
    "print(aqthick)"
   ]
  },
  {
   "cell_type": "code",
   "execution_count": 7,
   "metadata": {
    "collapsed": false
   },
   "outputs": [],
   "source": [
    "f = open('test.dat', 'w')\n",
    "line = '{:>5s}'.format('#ibcno')\n",
    "line += '{:>12s}'.format('cellid')\n",
    "line += '  cdelay '\n",
    "line += '{:>10s}'.format('pcs0')\n",
    "line += '{:>10s}'.format('bt_frac')\n",
    "line += '{:>10s}'.format('rnb')\n",
    "line += '{:>10s}'.format('sse_cc')\n",
    "line += '{:>10s}'.format('ssv_cr')\n",
    "line += '{:>10s}'.format('void')\n",
    "line += '{:>10s}'.format('kv')\n",
    "line += '{:>10s}'.format('h0')\n",
    "line += ' boundnames'\n",
    "f.write('{}\\n'.format(line))\n",
    "\n",
    "ibcno = 0\n",
    "for k in range(nlay):\n",
    "    for i in range(nrow):\n",
    "        for j in range(ncol):\n",
    "            idx = (k, i, j)\n",
    "            if ib[idx] < 1:\n",
    "                continue\n",
    "            cct = cc[idx]\n",
    "            crt = cr[idx]\n",
    "            bt = thick[idx] #/ aqthick[idx]\n",
    "            vt = void[idx]\n",
    "            pcs0 = pcsoff[idx]\n",
    "            line = ' {:5d}'.format(ibcno+1)\n",
    "            line += '{:4d}'.format(k+1)\n",
    "            line += '{:4d}'.format(i+1)\n",
    "            line += '{:4d}'.format(j+1)\n",
    "            line += ' nodelay '\n",
    "            line += '{:10.4g}'.format(pcs0)\n",
    "            line += '{:10.4g}'.format(bt)\n",
    "            line += '{:10.4g}'.format(1.)\n",
    "            line += '{:10.4g}'.format(cct)\n",
    "            line += '{:10.4g}'.format(crt)\n",
    "            line += '{:10.4g}'.format(vt)\n",
    "            line += '{:10.4g}'.format(-999.)\n",
    "            line += '{:10.4g}'.format(0.)\n",
    "            line += ' nsystm{}'.format(k)\n",
    "            f.write('{}\\n'.format(line))\n",
    "            ibcno += 1\n",
    "f.close()"
   ]
  },
  {
   "cell_type": "code",
   "execution_count": null,
   "metadata": {
    "collapsed": true
   },
   "outputs": [],
   "source": []
  }
 ],
 "metadata": {
  "anaconda-cloud": {},
  "kernelspec": {
   "display_name": "Python [conda root]",
   "language": "python",
   "name": "conda-root-py"
  },
  "language_info": {
   "codemirror_mode": {
    "name": "ipython",
    "version": 3
   },
   "file_extension": ".py",
   "mimetype": "text/x-python",
   "name": "python",
   "nbconvert_exporter": "python",
   "pygments_lexer": "ipython3",
   "version": "3.5.2"
  }
 },
 "nbformat": 4,
 "nbformat_minor": 2
}
